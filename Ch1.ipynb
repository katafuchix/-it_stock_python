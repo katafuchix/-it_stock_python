{
  "nbformat": 4,
  "nbformat_minor": 0,
  "metadata": {
    "colab": {
      "name": "Ch1.ipynb",
      "provenance": [],
      "authorship_tag": "ABX9TyPdIDpYhnp53I80Sl/R5gPk",
      "include_colab_link": true
    },
    "kernelspec": {
      "name": "python3",
      "display_name": "Python 3"
    },
    "language_info": {
      "name": "python"
    }
  },
  "cells": [
    {
      "cell_type": "markdown",
      "metadata": {
        "id": "view-in-github",
        "colab_type": "text"
      },
      "source": [
        "<a href=\"https://colab.research.google.com/github/katafuchix/at_it_stock_python/blob/main/Ch1.ipynb\" target=\"_parent\"><img src=\"https://colab.research.google.com/assets/colab-badge.svg\" alt=\"Open In Colab\"/></a>"
      ]
    },
    {
      "cell_type": "code",
      "metadata": {
        "colab": {
          "base_uri": "https://localhost:8080/",
          "height": 450
        },
        "id": "ZM4zZc97KirR",
        "outputId": "3aa651c4-ddf3-451c-8255-d7cb7491591d"
      },
      "source": [
        "import pandas_datareader.data as pdr\n",
        "\n",
        "df = pdr.DataReader(\"9984.JP\",\"stooq\")\n",
        "df"
      ],
      "execution_count": null,
      "outputs": [
        {
          "output_type": "execute_result",
          "data": {
            "text/html": [
              "<div>\n",
              "<style scoped>\n",
              "    .dataframe tbody tr th:only-of-type {\n",
              "        vertical-align: middle;\n",
              "    }\n",
              "\n",
              "    .dataframe tbody tr th {\n",
              "        vertical-align: top;\n",
              "    }\n",
              "\n",
              "    .dataframe thead th {\n",
              "        text-align: right;\n",
              "    }\n",
              "</style>\n",
              "<table border=\"1\" class=\"dataframe\">\n",
              "  <thead>\n",
              "    <tr style=\"text-align: right;\">\n",
              "      <th></th>\n",
              "      <th>Open</th>\n",
              "      <th>High</th>\n",
              "      <th>Low</th>\n",
              "      <th>Close</th>\n",
              "      <th>Volume</th>\n",
              "    </tr>\n",
              "    <tr>\n",
              "      <th>Date</th>\n",
              "      <th></th>\n",
              "      <th></th>\n",
              "      <th></th>\n",
              "      <th></th>\n",
              "      <th></th>\n",
              "    </tr>\n",
              "  </thead>\n",
              "  <tbody>\n",
              "    <tr>\n",
              "      <th>2021-07-20</th>\n",
              "      <td>7202.00</td>\n",
              "      <td>7305.00</td>\n",
              "      <td>7192.00</td>\n",
              "      <td>7227.00</td>\n",
              "      <td>7434000</td>\n",
              "    </tr>\n",
              "    <tr>\n",
              "      <th>2021-07-19</th>\n",
              "      <td>7301.00</td>\n",
              "      <td>7388.00</td>\n",
              "      <td>7268.00</td>\n",
              "      <td>7342.00</td>\n",
              "      <td>6742500</td>\n",
              "    </tr>\n",
              "    <tr>\n",
              "      <th>2021-07-16</th>\n",
              "      <td>7468.00</td>\n",
              "      <td>7532.00</td>\n",
              "      <td>7438.00</td>\n",
              "      <td>7481.00</td>\n",
              "      <td>6038400</td>\n",
              "    </tr>\n",
              "    <tr>\n",
              "      <th>2021-07-15</th>\n",
              "      <td>7650.00</td>\n",
              "      <td>7652.00</td>\n",
              "      <td>7521.00</td>\n",
              "      <td>7534.00</td>\n",
              "      <td>5848100</td>\n",
              "    </tr>\n",
              "    <tr>\n",
              "      <th>2021-07-14</th>\n",
              "      <td>7638.00</td>\n",
              "      <td>7698.00</td>\n",
              "      <td>7611.00</td>\n",
              "      <td>7626.00</td>\n",
              "      <td>6377400</td>\n",
              "    </tr>\n",
              "    <tr>\n",
              "      <th>...</th>\n",
              "      <td>...</td>\n",
              "      <td>...</td>\n",
              "      <td>...</td>\n",
              "      <td>...</td>\n",
              "      <td>...</td>\n",
              "    </tr>\n",
              "    <tr>\n",
              "      <th>2016-07-28</th>\n",
              "      <td>2625.55</td>\n",
              "      <td>2631.39</td>\n",
              "      <td>2603.62</td>\n",
              "      <td>2614.34</td>\n",
              "      <td>10481825</td>\n",
              "    </tr>\n",
              "    <tr>\n",
              "      <th>2016-07-27</th>\n",
              "      <td>2646.98</td>\n",
              "      <td>2659.64</td>\n",
              "      <td>2628.48</td>\n",
              "      <td>2641.62</td>\n",
              "      <td>18141846</td>\n",
              "    </tr>\n",
              "    <tr>\n",
              "      <th>2016-07-26</th>\n",
              "      <td>2660.14</td>\n",
              "      <td>2660.14</td>\n",
              "      <td>2613.85</td>\n",
              "      <td>2617.26</td>\n",
              "      <td>25670702</td>\n",
              "    </tr>\n",
              "    <tr>\n",
              "      <th>2016-07-25</th>\n",
              "      <td>2627.98</td>\n",
              "      <td>2628.48</td>\n",
              "      <td>2530.55</td>\n",
              "      <td>2541.26</td>\n",
              "      <td>16239561</td>\n",
              "    </tr>\n",
              "    <tr>\n",
              "      <th>2016-07-22</th>\n",
              "      <td>2608.49</td>\n",
              "      <td>2634.81</td>\n",
              "      <td>2606.55</td>\n",
              "      <td>2627.01</td>\n",
              "      <td>14781863</td>\n",
              "    </tr>\n",
              "  </tbody>\n",
              "</table>\n",
              "<p>1219 rows × 5 columns</p>\n",
              "</div>"
            ],
            "text/plain": [
              "               Open     High      Low    Close    Volume\n",
              "Date                                                    \n",
              "2021-07-20  7202.00  7305.00  7192.00  7227.00   7434000\n",
              "2021-07-19  7301.00  7388.00  7268.00  7342.00   6742500\n",
              "2021-07-16  7468.00  7532.00  7438.00  7481.00   6038400\n",
              "2021-07-15  7650.00  7652.00  7521.00  7534.00   5848100\n",
              "2021-07-14  7638.00  7698.00  7611.00  7626.00   6377400\n",
              "...             ...      ...      ...      ...       ...\n",
              "2016-07-28  2625.55  2631.39  2603.62  2614.34  10481825\n",
              "2016-07-27  2646.98  2659.64  2628.48  2641.62  18141846\n",
              "2016-07-26  2660.14  2660.14  2613.85  2617.26  25670702\n",
              "2016-07-25  2627.98  2628.48  2530.55  2541.26  16239561\n",
              "2016-07-22  2608.49  2634.81  2606.55  2627.01  14781863\n",
              "\n",
              "[1219 rows x 5 columns]"
            ]
          },
          "metadata": {
            "tags": []
          },
          "execution_count": 9
        }
      ]
    },
    {
      "cell_type": "code",
      "metadata": {
        "colab": {
          "base_uri": "https://localhost:8080/"
        },
        "id": "icIwW1oBLx6j",
        "outputId": "9f92fc26-be19-4d51-c0bc-79323df9ee20"
      },
      "source": [
        "df.index"
      ],
      "execution_count": null,
      "outputs": [
        {
          "output_type": "execute_result",
          "data": {
            "text/plain": [
              "DatetimeIndex(['2021-07-20', '2021-07-19', '2021-07-16', '2021-07-15',\n",
              "               '2021-07-14', '2021-07-13', '2021-07-12', '2021-07-09',\n",
              "               '2021-07-08', '2021-07-07',\n",
              "               ...\n",
              "               '2016-08-04', '2016-08-03', '2016-08-02', '2016-08-01',\n",
              "               '2016-07-29', '2016-07-28', '2016-07-27', '2016-07-26',\n",
              "               '2016-07-25', '2016-07-22'],\n",
              "              dtype='datetime64[ns]', name='Date', length=1219, freq=None)"
            ]
          },
          "metadata": {
            "tags": []
          },
          "execution_count": 10
        }
      ]
    },
    {
      "cell_type": "code",
      "metadata": {
        "id": "oXLGblqhL0IO"
      },
      "source": [
        "def get_stock_data(code):\n",
        "  df = pdr.DataReader(\"{}.JP\".format(code), \"stooq\").sort_index()\n",
        "  return df"
      ],
      "execution_count": null,
      "outputs": []
    },
    {
      "cell_type": "code",
      "metadata": {
        "colab": {
          "base_uri": "https://localhost:8080/",
          "height": 235
        },
        "id": "4wtFbaaBL3Tn",
        "outputId": "42f91b62-0ca9-4542-d2ac-2f41daa2dfcc"
      },
      "source": [
        "df = get_stock_data(9984)\n",
        "df.tail()"
      ],
      "execution_count": null,
      "outputs": [
        {
          "output_type": "execute_result",
          "data": {
            "text/html": [
              "<div>\n",
              "<style scoped>\n",
              "    .dataframe tbody tr th:only-of-type {\n",
              "        vertical-align: middle;\n",
              "    }\n",
              "\n",
              "    .dataframe tbody tr th {\n",
              "        vertical-align: top;\n",
              "    }\n",
              "\n",
              "    .dataframe thead th {\n",
              "        text-align: right;\n",
              "    }\n",
              "</style>\n",
              "<table border=\"1\" class=\"dataframe\">\n",
              "  <thead>\n",
              "    <tr style=\"text-align: right;\">\n",
              "      <th></th>\n",
              "      <th>Open</th>\n",
              "      <th>High</th>\n",
              "      <th>Low</th>\n",
              "      <th>Close</th>\n",
              "      <th>Volume</th>\n",
              "    </tr>\n",
              "    <tr>\n",
              "      <th>Date</th>\n",
              "      <th></th>\n",
              "      <th></th>\n",
              "      <th></th>\n",
              "      <th></th>\n",
              "      <th></th>\n",
              "    </tr>\n",
              "  </thead>\n",
              "  <tbody>\n",
              "    <tr>\n",
              "      <th>2021-07-14</th>\n",
              "      <td>7638.0</td>\n",
              "      <td>7698.0</td>\n",
              "      <td>7611.0</td>\n",
              "      <td>7626.0</td>\n",
              "      <td>6377400</td>\n",
              "    </tr>\n",
              "    <tr>\n",
              "      <th>2021-07-15</th>\n",
              "      <td>7650.0</td>\n",
              "      <td>7652.0</td>\n",
              "      <td>7521.0</td>\n",
              "      <td>7534.0</td>\n",
              "      <td>5848100</td>\n",
              "    </tr>\n",
              "    <tr>\n",
              "      <th>2021-07-16</th>\n",
              "      <td>7468.0</td>\n",
              "      <td>7532.0</td>\n",
              "      <td>7438.0</td>\n",
              "      <td>7481.0</td>\n",
              "      <td>6038400</td>\n",
              "    </tr>\n",
              "    <tr>\n",
              "      <th>2021-07-19</th>\n",
              "      <td>7301.0</td>\n",
              "      <td>7388.0</td>\n",
              "      <td>7268.0</td>\n",
              "      <td>7342.0</td>\n",
              "      <td>6742500</td>\n",
              "    </tr>\n",
              "    <tr>\n",
              "      <th>2021-07-20</th>\n",
              "      <td>7202.0</td>\n",
              "      <td>7305.0</td>\n",
              "      <td>7192.0</td>\n",
              "      <td>7227.0</td>\n",
              "      <td>7434000</td>\n",
              "    </tr>\n",
              "  </tbody>\n",
              "</table>\n",
              "</div>"
            ],
            "text/plain": [
              "              Open    High     Low   Close   Volume\n",
              "Date                                               \n",
              "2021-07-14  7638.0  7698.0  7611.0  7626.0  6377400\n",
              "2021-07-15  7650.0  7652.0  7521.0  7534.0  5848100\n",
              "2021-07-16  7468.0  7532.0  7438.0  7481.0  6038400\n",
              "2021-07-19  7301.0  7388.0  7268.0  7342.0  6742500\n",
              "2021-07-20  7202.0  7305.0  7192.0  7227.0  7434000"
            ]
          },
          "metadata": {
            "tags": []
          },
          "execution_count": 12
        }
      ]
    },
    {
      "cell_type": "code",
      "metadata": {
        "colab": {
          "base_uri": "https://localhost:8080/"
        },
        "id": "cmMPi5rkL6hc",
        "outputId": "b53e6b21-f500-449f-e3f6-527c3af1cdd2"
      },
      "source": [
        "df['Close']"
      ],
      "execution_count": null,
      "outputs": [
        {
          "output_type": "execute_result",
          "data": {
            "text/plain": [
              "Date\n",
              "2016-07-22    2627.01\n",
              "2016-07-25    2541.26\n",
              "2016-07-26    2617.26\n",
              "2016-07-27    2641.62\n",
              "2016-07-28    2614.34\n",
              "               ...   \n",
              "2021-07-14    7626.00\n",
              "2021-07-15    7534.00\n",
              "2021-07-16    7481.00\n",
              "2021-07-19    7342.00\n",
              "2021-07-20    7227.00\n",
              "Name: Close, Length: 1219, dtype: float64"
            ]
          },
          "metadata": {
            "tags": []
          },
          "execution_count": 13
        }
      ]
    },
    {
      "cell_type": "code",
      "metadata": {
        "colab": {
          "base_uri": "https://localhost:8080/",
          "height": 289
        },
        "id": "-rX3tz2cL81Q",
        "outputId": "0f229f8d-2e73-49d2-f0ae-b302395b18d1"
      },
      "source": [
        "df['Close'].plot()"
      ],
      "execution_count": null,
      "outputs": [
        {
          "output_type": "execute_result",
          "data": {
            "text/plain": [
              "<matplotlib.axes._subplots.AxesSubplot at 0x7fd0edaee650>"
            ]
          },
          "metadata": {
            "tags": []
          },
          "execution_count": 14
        },
        {
          "output_type": "display_data",
          "data": {
            "image/png": "[encoded data removed]",
            "text/plain": [
              "<Figure size 432x288 with 1 Axes>"
            ]
          },
          "metadata": {
            "tags": [],
            "needs_background": "light"
          }
        }
      ]
    }
  ]
}